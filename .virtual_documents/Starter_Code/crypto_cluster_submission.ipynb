# Import required libraries and dependencies
import pandas as pd
import hvplot.pandas
from sklearn.cluster import KMeans
from sklearn.decomposition import PCA
from sklearn.preprocessing import StandardScaler


# Load the data into a Pandas DataFrame
df_market_data = pd.read_csv(
    "Resources/crypto_market_data.csv",
)

# Display sample data
df_market_data.head(10)


# Generate summary statistics
df_market_data.describe()


# Plot your data to see what's in your DataFrame
df_market_data.hvplot.line(
    width=800,
    height=400,
    rot=90
)








# Use the `StandardScaler()` module from scikit-learn to normalize the data from the CSV file
crypto_scaled = StandardScaler().fit_transform(df_market_data[["price_change_percentage_24h", "price_change_percentage_7d", "price_change_percentage_14d", "price_change_percentage_30d", "price_change_percentage_60d", "price_change_percentage_200d", "price_change_percentage_1y"]])


# Create a DataFrame with the scaled data
crypto_scaled_df = pd.DataFrame(
    crypto_scaled,
    columns=["price_change_percentage_24h", "price_change_percentage_7d", "price_change_percentage_14d", "price_change_percentage_30d", "price_change_percentage_60d", "price_change_percentage_200d", "price_change_percentage_1y"]
)

# Copy the crypto names from the original DataFrame
crypto_scaled_df["coin_id"] = df_market_data["coin_id"].values

# Set the coin_id column as index
crypto_scaled_df.set_index("coin_id", inplace=True)

# Display the scaled DataFrame
crypto_scaled_df








# Create a list with the number of k-values from 1 to 11
k = list(range(1, 11))


# Create an empty list to store the inertia values
inertia = []

# Create a for loop to compute the inertia with each possible value of k
# Inside the loop:
# 1. Create a KMeans model using the loop counter for the n_clusters
# 2. Fit the model to the data using `df_market_data_scaled`
# 3. Append the model.inertia_ to the inertia list
for i in k:
    k_model = KMeans(n_clusters=i, random_state=0)
    k_model.fit(crypto_scaled_df)
    inertia.append(k_model.inertia_)


# Create a dictionary with the data to plot the Elbow curve
elbow_data = {"k": k, "inertia": inertia}
df_elbow = pd.DataFrame(elbow_data)

# Review the DataFrame
df_elbow.head()

# Create a DataFrame with the data to plot the Elbow curve



# Plot a line chart with all the inertia values computed with
# the different values of k to visually identify the optimal value for k.
elbow_scaled_plot = df_elbow.hvplot.line(
    x="k", 
    y="inertia", 
    title="Elbow Curve", 
    xticks=k
)
elbow_scaled_plot











# Initialize the K-Means model using the best value for k
model = KMeans(n_clusters=4, random_state=0)



# Fit the K-Means model using the scaled DataFrame
model.fit(crypto_scaled_df)


# Predict the clusters to group the cryptocurrencies using the scaled DataFrame
kmeans_predictions = model.predict(crypto_scaled_df)

# Print the resulting array of cluster values.
print(kmeans_predictions)


# Create a copy of the scaled DataFrame
scaled_predictions_df = crypto_scaled_df.copy()


# Add a new column to the copy of the scaled DataFrame with the predicted clusters
scaled_predictions_df["crypto_cluster"] = kmeans_predictions

# Display the copy of the scaled DataFrame
scaled_predictions_df.head()


# Create a scatter plot using hvPlot by setting
# `x="price_change_percentage_24h"` and `y="price_change_percentage_7d"`.
# Color the graph points with the labels found using K-Means and
# add the crypto name in the `hover_cols` parameter to identify
# the cryptocurrency represented by each data point.
scaled_cluster = scaled_predictions_df.hvplot.scatter(
    x="price_change_percentage_24h",
    y="price_change_percentage_7d",
    by="crypto_cluster", 
    cmap="plasma",  # Different colormap to differentiate
    marker="s",  
    size=80,  
    alpha=0.6,  
    label="Scaled Features"
)
scaled_cluster








# Create a PCA model instance and set `n_components=3`.
pca = PCA(n_components=3)


# Use the PCA model with `fit_transform` to reduce the original scaled DataFrame
# down to three principal components.
crypto_pca = pca.fit_transform(crypto_scaled_df)

# View the scaled PCA data
crypto_pca[:5]


# Retrieve the explained variance to determine how much information
# can be attributed to each principal component.
pca.explained_variance_ratio_





# Create a new DataFrame with the PCA data.
crypto_pca_df = pd.DataFrame(
    crypto_pca,
    columns=["PCA1", "PCA2", "PCA3"]
)

# Copy the crypto names from the original scaled DataFrame
crypto_pca_df["coin_id"] = df_market_data.index

# Set the coin_id column as index
crypto_pca_df.set_index("coin_id", inplace=True)

# Display the scaled PCA DataFrame
crypto_pca_df








# Create a list with the number of k-values from 1 to 11
k = list(range(1, 11))


# Create an empty list to store the inertia values
inertia = []

# Create a for loop to compute the inertia with each possible value of k
# Inside the loop:
# 1. Create a KMeans model using the loop counter for the n_clusters
# 2. Fit the model to the data using `df_market_data_pca`
# 3. Append the model.inertia_ to the inertia list
for i in k:
    k_model = KMeans(n_clusters=i, random_state=0)
    k_model.fit(crypto_scaled_df)
    inertia.append(k_model.inertia_)


# Create a dictionary with the data to plot the Elbow curve
elbow_data = {"k": k, "inertia": inertia}
df_elbow = pd.DataFrame(elbow_data)
# Create a DataFrame with the data to plot the Elbow curve



# Plot a line chart with all the inertia values computed with
# the different values of k to visually identify the optimal value for k.
elbow_pca_plot = df_elbow.hvplot.line(
    x="k", 
    y="inertia", 
    title="Elbow Curve", 
    xticks=k
)
elbow_pca_plot








# Initialize the K-Means model using the best value for k
model = KMeans(n_clusters=4, random_state=0)


# Fit the K-Means model using the PCA data
model.fit(crypto_pca_df)


# Predict the clusters to group the cryptocurrencies using the scaled DataFrame
kmeans_predictions_pca = model.predict(crypto_pca_df)

# Print the resulting array of cluster values.
print(kmeans_predictions_pca)


# Create a copy of the scaled PCA DataFrame
pca_predictions_df = crypto_pca_df.copy()

# Add a new column to the copy of the PCA DataFrame with the predicted clusters
pca_predictions_df["pca_predictions"] = kmeans_predictions_pca

# Display the copy of the scaled PCA DataFrame
pca_predictions_df


# Create a scatter plot using hvPlot by setting
# `x="PC1"` and `y="PC2"`.
# Color the graph points with the labels found using K-Means and
# add the crypto name in the `hover_cols` parameter to identify
# the cryptocurrency represented by each data point.
pca_cluster = pca_predictions_df.hvplot.scatter(
    x="PCA1",
    y="PCA2",
    by="pca_predictions",
    cmap="viridis",  # Color palette for clusters
    marker="o", 
    size=80,  
    alpha=0.6,  
    label="PCA Features"
)
pca_cluster





# Composite plot to contrast the Elbow curves
# YOUR CODE HERE!
elbow_pca_plot * elbow_scaled_plot



# Composite plot to contrast the clusters
# YOUR CODE HERE!
pca_cluster * scaled_cluster






